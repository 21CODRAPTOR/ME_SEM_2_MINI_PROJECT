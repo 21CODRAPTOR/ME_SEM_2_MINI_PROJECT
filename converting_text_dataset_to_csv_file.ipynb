{
 "cells": [
  {
   "cell_type": "code",
   "execution_count": 1,
   "id": "cda9031a",
   "metadata": {},
   "outputs": [],
   "source": [
    "#Importing Libraries\n",
    "import pandas as pd    #pandas\n",
    "import numpy as np    #numpy\n",
    "import re\n",
    "\n",
    "import matplotlib.pyplot as plt\n",
    "%matplotlib inline\n",
    "import seaborn as sns\n",
    "\n",
    "from sklearn.model_selection import train_test_split\n",
    "from sklearn.metrics import accuracy_score, f1_score, roc_auc_score"
   ]
  },
  {
   "cell_type": "code",
   "execution_count": 2,
   "id": "d7ca8385",
   "metadata": {},
   "outputs": [],
   "source": [
    "#Loading Dataset: Dataset 3 from research paper\n",
    "test_data_path = 'E:/Mini_project_datasets/test.txt'\n",
    "train_data_path = 'E:/Mini_project_datasets/train.txt'\n",
    "df_test = pd.read_csv(test_data_path,header=None, delimiter='\\t')\n",
    "df_train = pd.read_csv(train_data_path,header=None,delimiter='\\t')"
   ]
  },
  {
   "cell_type": "code",
   "execution_count": 3,
   "id": "2f9e164e",
   "metadata": {},
   "outputs": [],
   "source": [
    "# Function to extract label and text\n",
    "def extract_label_text(df):\n",
    "    df_new = pd.DataFrame(columns=['label', 'text'])\n",
    "    df_new['label'] = df[0].apply(lambda x: x.split()[0])  # Extract label\n",
    "    df_new['text'] = df[0].apply(lambda x: ' '.join(x.split()[1:]))  # Extract text\n",
    "    return df_new"
   ]
  },
  {
   "cell_type": "code",
   "execution_count": 4,
   "id": "74c36add",
   "metadata": {},
   "outputs": [],
   "source": [
    "# Apply function to separate label and text for test and train data\n",
    "df_test_separated = extract_label_text(df_test)\n",
    "df_train_separated = extract_label_text(df_train)\n",
    "\n",
    "# Optional: Save the separated DataFrames to new files\n",
    "output_test_path = 'E:/test_separated.csv'\n",
    "output_train_path = 'E:/train_separated.csv'\n",
    "\n",
    "df_test_separated.to_csv(output_test_path, index=False)\n",
    "df_train_separated.to_csv(output_train_path, index=False)"
   ]
  },
  {
   "cell_type": "code",
   "execution_count": null,
   "id": "fb7e88ea",
   "metadata": {},
   "outputs": [],
   "source": []
  }
 ],
 "metadata": {
  "kernelspec": {
   "display_name": "Python 3 (ipykernel)",
   "language": "python",
   "name": "python3"
  },
  "language_info": {
   "codemirror_mode": {
    "name": "ipython",
    "version": 3
   },
   "file_extension": ".py",
   "mimetype": "text/x-python",
   "name": "python",
   "nbconvert_exporter": "python",
   "pygments_lexer": "ipython3",
   "version": "3.11.3"
  }
 },
 "nbformat": 4,
 "nbformat_minor": 5
}
