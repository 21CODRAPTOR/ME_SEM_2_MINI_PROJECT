{
 "cells": [
  {
   "cell_type": "code",
   "execution_count": 1,
   "id": "d327ef5f",
   "metadata": {},
   "outputs": [],
   "source": [
    "# Importing Libraries\n",
    "import pandas as pd\n",
    "import numpy as np\n",
    "import re\n",
    "import matplotlib.pyplot as plt\n",
    "import seaborn as sns\n",
    "from sklearn.model_selection import train_test_split\n",
    "from sklearn.metrics import accuracy_score, f1_score, roc_auc_score\n",
    "from tensorflow.keras.preprocessing.text import Tokenizer\n",
    "from tensorflow.keras.preprocessing.sequence import pad_sequences\n",
    "from tensorflow.keras.models import Sequential\n",
    "from tensorflow.keras.layers import Embedding, LSTM, Dense, Conv1D, MaxPooling1D, Flatten, Dropout, Bidirectional\n",
    "from tensorflow.keras.optimizers import SGD, Adam\n",
    "from sklearn.metrics import confusion_matrix, ConfusionMatrixDisplay, classification_report\n"
   ]
  },
  {
   "cell_type": "code",
   "execution_count": 2,
   "id": "8404f401",
   "metadata": {},
   "outputs": [],
   "source": [
    "# Loading Dataset: Dataset 3 from research paper\n",
    "df_test = pd.read_csv(\"E:/Mini_project_datasets/test_separated.csv\")\n",
    "df_train = pd.read_csv(\"E:/Mini_project_datasets/train_separated.csv\")"
   ]
  },
  {
   "cell_type": "code",
   "execution_count": 3,
   "id": "5eba8ed0",
   "metadata": {},
   "outputs": [
    {
     "name": "stdout",
     "output_type": "stream",
     "text": [
      "Test Data: \n",
      "    label                                            comment\n",
      "0      0  This is a great book: I must preface this by s...\n",
      "1      1  Huge Disappointment.: As a big time, long term...\n",
      "2      0  Wayne is tight but cant hang with Turk.: This ...\n",
      "3      0  Excellent: I read this book when I was in elem...\n",
      "4      1  Not about Anusara: Although this book is toute...\n",
      "Train Data: \n",
      "    label                                            comment\n",
      "0      1  Very Mediocre: The fake velvet touch only enha...\n",
      "1      0  Downton Abbey: I love it love it love it. I wo...\n",
      "2      1  Roses Are Red: Disappointed in this one. They ...\n",
      "3      1  Awful Experience: This Microsoft mouse stopped...\n",
      "4      1  I must have seen a different movie: I have one...\n"
     ]
    }
   ],
   "source": [
    "# Exploratory Data Analysis on the Dataset\n",
    "print(\"Test Data: \\n\", df_test.head(5))\n",
    "print(\"Train Data: \\n\", df_train.head(5))\n"
   ]
  },
  {
   "cell_type": "code",
   "execution_count": 4,
   "id": "659b8030",
   "metadata": {},
   "outputs": [],
   "source": [
    "# This function cleans up text so that only English characters are preserved\n",
    "def processed_comments(df, text_column):\n",
    "    not_alphanumeric = re.compile(r'[\\W]')\n",
    "    not_ascii = re.compile(r'[^a-z0-1\\s]')\n",
    "\n",
    "    processed_comments = []\n",
    "    for comment in df[text_column]:\n",
    "        lower = comment.lower()\n",
    "        no_punctuation = not_alphanumeric.sub(r' ', lower)\n",
    "        no_non_ascii = not_ascii.sub(r'', no_punctuation)\n",
    "        processed_comments.append(no_non_ascii)\n",
    "\n",
    "    df[\"processed_comments\"] = processed_comments\n",
    "    df.drop(columns=[text_column], inplace=True)  # Drop the previous text column\n",
    "    return df"
   ]
  },
  {
   "cell_type": "code",
   "execution_count": 5,
   "id": "b0dda474",
   "metadata": {},
   "outputs": [
    {
     "name": "stdout",
     "output_type": "stream",
     "text": [
      "Shape of test dataset (80000, 2)\n",
      "Shape of train dataset (320000, 2)\n"
     ]
    }
   ],
   "source": [
    "# Assuming the text column is named \"text_column_name\"\n",
    "df_test = processed_comments(df_test, \"comment\")\n",
    "df_train = processed_comments(df_train, \"comment\")\n",
    "\n",
    "print(\"Shape of test dataset\", df_test.shape)\n",
    "print(\"Shape of train dataset\", df_train.shape)"
   ]
  },
  {
   "cell_type": "code",
   "execution_count": 6,
   "id": "2b1f9688",
   "metadata": {},
   "outputs": [],
   "source": [
    "df_train[\"processed_comments\"], val_text, df_train[\"label\"], val_label = train_test_split(df_train[\"processed_comments\"], df_train[\"label\"], random_state=42, test_size=0.2)"
   ]
  },
  {
   "cell_type": "code",
   "execution_count": 7,
   "id": "151f4526",
   "metadata": {},
   "outputs": [],
   "source": [
    "# Drop rows with NaN values in the \"processed_comments\" column\n",
    "df_train.dropna(subset=[\"processed_comments\"], inplace=True)\n",
    "df_test.dropna(subset=[\"processed_comments\"], inplace=True)"
   ]
  },
  {
   "cell_type": "code",
   "execution_count": 8,
   "id": "090fe959",
   "metadata": {},
   "outputs": [
    {
     "data": {
      "text/plain": [
       "label\n",
       "1.0      128062\n",
       "0.0      127938\n",
       "dtype: int64"
      ]
     },
     "execution_count": 8,
     "metadata": {},
     "output_type": "execute_result"
    }
   ],
   "source": [
    "df_train[\"processed_comments\"].head(20)\n",
    "\n",
    "# To get the count of comments from Label 0 and Label 1 from Training dataset\n",
    "pd.DataFrame(df_train[\"label\"]).value_counts()\n"
   ]
  },
  {
   "cell_type": "markdown",
   "id": "eae202dc",
   "metadata": {},
   "source": [
    " Model Creation: Using Hybrid CNN-Bi-LSTM layers"
   ]
  },
  {
   "cell_type": "code",
   "execution_count": 9,
   "id": "383d08eb",
   "metadata": {},
   "outputs": [],
   "source": [
    "max_words = 1000\n",
    "max_sequence_length = 100\n",
    "\n",
    "tokenizer = Tokenizer(num_words=max_words)\n",
    "tokenizer.fit_on_texts(df_train[\"processed_comments\"])\n",
    "\n",
    "X_train = tokenizer.texts_to_sequences(df_train[\"processed_comments\"])\n",
    "X_test = tokenizer.texts_to_sequences(df_test[\"processed_comments\"])\n",
    "\n",
    "X_train = pad_sequences(X_train, maxlen=max_sequence_length)\n",
    "X_test = pad_sequences(X_test, maxlen=max_sequence_length)\n"
   ]
  },
  {
   "cell_type": "code",
   "execution_count": 10,
   "id": "63faf78a",
   "metadata": {},
   "outputs": [
    {
     "name": "stdout",
     "output_type": "stream",
     "text": [
      "(256000, 100)\n",
      "(80000, 100)\n",
      "(256000,)\n",
      "(80000,)\n",
      "<class 'numpy.ndarray'>\n",
      "<class 'numpy.ndarray'>\n",
      "<class 'numpy.int32'>\n",
      "<class 'numpy.int32'>\n"
     ]
    }
   ],
   "source": [
    "X_train = np.array(X_train)\n",
    "print(X_train.shape)\n",
    "X_test = np.array(X_test)\n",
    "print(X_test.shape)\n",
    "y_train = np.array(df_train[\"label\"])\n",
    "print(y_train.shape)\n",
    "y_test = np.array(df_test[\"label\"])\n",
    "print(y_test.shape)\n",
    "y_train = y_train.astype(np.int32)\n",
    "y_test = y_test.astype(np.int32)\n",
    "\n",
    "print(type(X_train[0]))\n",
    "print(type(X_test[0]))\n",
    "print(type(y_train[0]))\n",
    "print(type(y_test[0]))"
   ]
  },
  {
   "cell_type": "code",
   "execution_count": 12,
   "id": "a4373be0",
   "metadata": {},
   "outputs": [
    {
     "name": "stdout",
     "output_type": "stream",
     "text": [
      "Epoch 1/4\n",
      "\u001b[1m125/125\u001b[0m \u001b[32m━━━━━━━━━━━━━━━━━━━━\u001b[0m\u001b[37m\u001b[0m \u001b[1m2032s\u001b[0m 16s/step - accuracy: 0.5533 - loss: 2.3165\n",
      "Epoch 2/4\n",
      "\u001b[1m125/125\u001b[0m \u001b[32m━━━━━━━━━━━━━━━━━━━━\u001b[0m\u001b[37m\u001b[0m \u001b[1m1875s\u001b[0m 15s/step - accuracy: 0.7938 - loss: 0.4657\n",
      "Epoch 3/4\n",
      "\u001b[1m125/125\u001b[0m \u001b[32m━━━━━━━━━━━━━━━━━━━━\u001b[0m\u001b[37m\u001b[0m \u001b[1m1851s\u001b[0m 15s/step - accuracy: 0.8432 - loss: 0.3944\n",
      "Epoch 4/4\n",
      "\u001b[1m125/125\u001b[0m \u001b[32m━━━━━━━━━━━━━━━━━━━━\u001b[0m\u001b[37m\u001b[0m \u001b[1m1841s\u001b[0m 15s/step - accuracy: 0.8116 - loss: 0.4332\n",
      "\u001b[1m2500/2500\u001b[0m \u001b[32m━━━━━━━━━━━━━━━━━━━━\u001b[0m\u001b[37m\u001b[0m \u001b[1m229s\u001b[0m 91ms/step - accuracy: 0.8462 - loss: 0.4637\n"
     ]
    }
   ],
   "source": [
    "# Define CNN-Bi-LSTM Model\n",
    "# Model Creation: Using Hybrid CNN-Bi-LSTM layers\n",
    "def create_hybrid_model(optimizer, activation_function, lstm_layers, cnn_layers):\n",
    "    model = Sequential()\n",
    "    model.add(Embedding(input_dim=max_words, output_dim=128, input_length=max_sequence_length))\n",
    "    model.add(Conv1D(2048, 5, activation='relu'))  # Additional CNN layers\n",
    "    model.add(MaxPooling1D(pool_size=2))\n",
    "    for _ in range(lstm_layers):\n",
    "        model.add(Bidirectional(LSTM(128, return_sequences=True)))\n",
    "    model.add(Bidirectional(LSTM(128, return_sequences=False)))\n",
    "    model.add(Dense(1, activation=activation_function))\n",
    "    model.compile(loss='binary_crossentropy', optimizer=optimizer, metrics=['accuracy'])\n",
    "    return model\n",
    "\n",
    "# Define different configurations\n",
    "configurations = [\n",
    "    {\"optimizer\": Adam(learning_rate=0.001), \"activation_function\": 'relu', \"lstm_layers\": 2, \"cnn_layers\": 2},  # Adjusted hyperparameters\n",
    "]\n",
    "\n",
    "results = []\n",
    "\n",
    "for config in configurations:\n",
    "    model = create_hybrid_model(config[\"optimizer\"], config[\"activation_function\"], config[\"lstm_layers\"], config[\"cnn_layers\"])\n",
    "    model.fit(X_train, y_train, epochs=4, batch_size=2048, verbose=1)  # Adjusted batch size\n",
    "    loss, accuracy = model.evaluate(X_test, y_test)\n",
    "    results.append({\"config\": config, \"loss\": loss, \"accuracy\": accuracy})\n"
   ]
  },
  {
   "cell_type": "code",
   "execution_count": 13,
   "id": "9ff3aa35",
   "metadata": {},
   "outputs": [
    {
     "name": "stdout",
     "output_type": "stream",
     "text": [
      "Configuration: Optimizer=<keras.src.optimizers.adam.Adam object at 0x00000204B74F9B10>, Activation=relu, LSTM Layers=2\n",
      "Test Loss: 0.4635370075702667, Test Accuracy: 0.8459749817848206\n",
      "\n",
      "\u001b[1m2500/2500\u001b[0m \u001b[32m━━━━━━━━━━━━━━━━━━━━\u001b[0m\u001b[37m\u001b[0m \u001b[1m200s\u001b[0m 80ms/step\n",
      "Confusion Matrix:\n"
     ]
    },
    {
     "data": {
      "image/png": "[encoded data removed]",
      "text/plain": [
       "<Figure size 640x480 with 2 Axes>"
      ]
     },
     "metadata": {},
     "output_type": "display_data"
    }
   ],
   "source": [
    "for result in results:\n",
    "    config = result[\"config\"]\n",
    "    loss = result[\"loss\"]\n",
    "    accuracy = result[\"accuracy\"]\n",
    "    print(f\"Configuration: Optimizer={config['optimizer']}, Activation={config['activation_function']}, LSTM Layers={config['lstm_layers']}\")\n",
    "    print(f\"Test Loss: {loss}, Test Accuracy: {accuracy}\\n\")\n",
    "\n",
    "y_pred = model.predict(X_test)\n",
    "y_pred = (y_pred > 0.5)\n",
    "\n",
    "cm = confusion_matrix(y_test, y_pred)\n",
    "print(\"Confusion Matrix:\")\n",
    "ConfusionMatrixDisplay(cm).plot()\n",
    "plt.show()"
   ]
  },
  {
   "cell_type": "code",
   "execution_count": 14,
   "id": "fa559649",
   "metadata": {},
   "outputs": [
    {
     "name": "stdout",
     "output_type": "stream",
     "text": [
      "Classification Report:\n",
      "              precision    recall  f1-score   support\n",
      "\n",
      "           0       0.84      0.85      0.85     40104\n",
      "           1       0.85      0.84      0.84     39896\n",
      "\n",
      "    accuracy                           0.85     80000\n",
      "   macro avg       0.85      0.85      0.85     80000\n",
      "weighted avg       0.85      0.85      0.85     80000\n",
      "\n"
     ]
    }
   ],
   "source": [
    "\n",
    "report = classification_report(y_test, y_pred)\n",
    "print(\"Classification Report:\")\n",
    "print(report)"
   ]
  },
  {
   "cell_type": "code",
   "execution_count": null,
   "id": "56c82fa1",
   "metadata": {},
   "outputs": [],
   "source": []
  }
 ],
 "metadata": {
  "kernelspec": {
   "display_name": "Python 3 (ipykernel)",
   "language": "python",
   "name": "python3"
  },
  "language_info": {
   "codemirror_mode": {
    "name": "ipython",
    "version": 3
   },
   "file_extension": ".py",
   "mimetype": "text/x-python",
   "name": "python",
   "nbconvert_exporter": "python",
   "pygments_lexer": "ipython3",
   "version": "3.11.3"
  }
 },
 "nbformat": 4,
 "nbformat_minor": 5
}
