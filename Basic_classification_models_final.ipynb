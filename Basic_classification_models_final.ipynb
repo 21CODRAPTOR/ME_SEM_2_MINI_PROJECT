{
 "cells": [
  {
   "cell_type": "code",
   "execution_count": 1,
   "id": "6843f638",
   "metadata": {},
   "outputs": [],
   "source": [
    "import pandas as pd\n",
    "import numpy as np\n",
    "import re\n",
    "import matplotlib.pyplot as plt\n",
    "from sklearn.model_selection import train_test_split\n",
    "from sklearn.metrics import accuracy_score, confusion_matrix, classification_report\n",
    "from sklearn.feature_extraction.text import CountVectorizer\n",
    "from sklearn.naive_bayes import MultinomialNB, BernoulliNB, GaussianNB\n",
    "from sklearn.linear_model import LogisticRegression\n",
    "from sklearn.tree import DecisionTreeClassifier\n",
    "import time"
   ]
  },
  {
   "cell_type": "code",
   "execution_count": 2,
   "id": "c3898e0c",
   "metadata": {},
   "outputs": [],
   "source": [
    "# Loading Dataset: Dataset 3 from research paper\n",
    "df_test = pd.read_csv(\"E:/Mini_project_datasets/test_separated.csv\")\n",
    "df_train = pd.read_csv(\"E:/Mini_project_datasets/train_separated.csv\")"
   ]
  },
  {
   "cell_type": "code",
   "execution_count": 3,
   "id": "9c2c0181",
   "metadata": {},
   "outputs": [
    {
     "name": "stdout",
     "output_type": "stream",
     "text": [
      "Test Data: \n",
      "    label                                            comment\n",
      "0      0  Great CD: My lovely Pat has one of the GREAT v...\n",
      "1      0  One of the best game music soundtracks - for a...\n",
      "2      1  Batteries died within a year ...: I bought thi...\n",
      "3      0  works fine, but Maha Energy is better: Check o...\n",
      "4      0  Great for the non-audiophile: Reviewed quite a...\n",
      "Train Data: \n",
      "    label                                            comment\n",
      "0      0  Stuning even for the non-gamer: This sound tra...\n",
      "1      0  The best soundtrack ever to anything.: I'm rea...\n",
      "2      0  Amazing!: This soundtrack is my favorite music...\n",
      "3      0  Excellent Soundtrack: I truly like this soundt...\n",
      "4      0  Remember, Pull Your Jaw Off The Floor After He...\n"
     ]
    }
   ],
   "source": [
    "# Exploratory Data Analysis on the Dataset\n",
    "print(\"Test Data: \\n\", df_test.head(5))\n",
    "print(\"Train Data: \\n\", df_train.head(5))"
   ]
  },
  {
   "cell_type": "code",
   "execution_count": 4,
   "id": "eeb202be",
   "metadata": {},
   "outputs": [],
   "source": [
    "# This function cleans up text so that only English characters are preserved\n",
    "def processed_comments(df, text_column):\n",
    "    not_alphanumeric = re.compile(r'[\\W]')\n",
    "    not_ascii = re.compile(r'[^a-z0-1\\s]')\n",
    "\n",
    "    processed_comments = []\n",
    "    for comment in df[text_column]:\n",
    "        lower = comment.lower()\n",
    "        no_punctuation = not_alphanumeric.sub(r' ', lower)\n",
    "        no_non_ascii = not_ascii.sub(r'', no_punctuation)\n",
    "        processed_comments.append(no_non_ascii)\n",
    "\n",
    "    df[\"processed_comments\"] = processed_comments\n",
    "    df.drop(columns=[text_column], inplace=True)  # Drop the previous text column\n",
    "    return df"
   ]
  },
  {
   "cell_type": "code",
   "execution_count": 5,
   "id": "ab9fcba4",
   "metadata": {},
   "outputs": [],
   "source": [
    "df_test = processed_comments(df_test, \"comment\")\n",
    "df_train = processed_comments(df_train, \"comment\")"
   ]
  },
  {
   "cell_type": "code",
   "execution_count": 6,
   "id": "65b27b56",
   "metadata": {},
   "outputs": [],
   "source": [
    "df_train[\"processed_comments\"], val_text, df_train[\"label\"], val_label = train_test_split(df_train[\"processed_comments\"], df_train[\"label\"], random_state=42, test_size=0.2)"
   ]
  },
  {
   "cell_type": "code",
   "execution_count": 7,
   "id": "2ce086ba",
   "metadata": {},
   "outputs": [
    {
     "name": "stdout",
     "output_type": "stream",
     "text": [
      "Train Length  1048575\n",
      "Train Label Length  1048575\n",
      "Test Length  400000\n",
      "Test Labels Length  400000\n"
     ]
    }
   ],
   "source": [
    "print('Train Length ', len(df_train[\"processed_comments\"]))\n",
    "print('Train Label Length ', len(df_train[\"label\"]))\n",
    "print('Test Length ', len(df_test[\"processed_comments\"]))\n",
    "print('Test Labels Length ', len(df_test[\"label\"]))"
   ]
  },
  {
   "cell_type": "code",
   "execution_count": 8,
   "id": "2f8aea02",
   "metadata": {},
   "outputs": [],
   "source": [
    "# Drop rows with NaN values in the \"processed_comments\" column\n",
    "df_train.dropna(subset=[\"processed_comments\"], inplace=True)\n",
    "df_test.dropna(subset=[\"processed_comments\"], inplace=True)\n"
   ]
  },
  {
   "cell_type": "code",
   "execution_count": 9,
   "id": "4b047fc0",
   "metadata": {},
   "outputs": [
    {
     "data": {
      "text/plain": [
       "label\n",
       "0.0      424467\n",
       "1.0      414393\n",
       "dtype: int64"
      ]
     },
     "execution_count": 9,
     "metadata": {},
     "output_type": "execute_result"
    }
   ],
   "source": [
    "# To get the count of comments from Label 0 and Label 1 from Training dataset\n",
    "pd.DataFrame(df_train[\"label\"]).value_counts()"
   ]
  },
  {
   "cell_type": "code",
   "execution_count": 10,
   "id": "4ca20216",
   "metadata": {},
   "outputs": [],
   "source": [
    "# Vectorize text data\n",
    "vectorizer = CountVectorizer(max_features=1000)\n",
    "X_train = vectorizer.fit_transform(df_train[\"processed_comments\"])\n",
    "X_test = vectorizer.transform(df_test[\"processed_comments\"])\n",
    "\n",
    "y_train = np.array(df_train[\"label\"])\n",
    "y_test = np.array(df_test[\"label\"])\n"
   ]
  },
  {
   "cell_type": "markdown",
   "id": "39940a91",
   "metadata": {},
   "source": [
    "A) Multinomial Naive Bayes Classifier"
   ]
  },
  {
   "cell_type": "code",
   "execution_count": 20,
   "id": "47435412",
   "metadata": {},
   "outputs": [],
   "source": [
    "start_time = time.time()\n",
    "# Train Naive Bayes classifier\n",
    "nb_classifier = MultinomialNB()\n",
    "nb_classifier.fit(X_train, y_train)\n",
    "# Predictions\n",
    "y_pred = nb_classifier.predict(X_test)\n",
    "end_time = time.time()"
   ]
  },
  {
   "cell_type": "code",
   "execution_count": 21,
   "id": "1ba78a2b",
   "metadata": {},
   "outputs": [
    {
     "name": "stdout",
     "output_type": "stream",
     "text": [
      "Accuracy: 0.8381\n",
      "Confusion Matrix:\n",
      "[[165110  34890]\n",
      " [ 29870 170130]]\n",
      "Classification Report:\n",
      "              precision    recall  f1-score   support\n",
      "\n",
      "           0       0.85      0.83      0.84    200000\n",
      "           1       0.83      0.85      0.84    200000\n",
      "\n",
      "    accuracy                           0.84    400000\n",
      "   macro avg       0.84      0.84      0.84    400000\n",
      "weighted avg       0.84      0.84      0.84    400000\n",
      "\n",
      "Training Time: 0.341341495513916 seconds\n"
     ]
    }
   ],
   "source": [
    "# Evaluation\n",
    "accuracy = accuracy_score(y_test, y_pred)\n",
    "print(\"Accuracy:\", accuracy)\n",
    "\n",
    "cm = confusion_matrix(y_test, y_pred)\n",
    "print(\"Confusion Matrix:\")\n",
    "print(cm)\n",
    "\n",
    "report = classification_report(y_test, y_pred)\n",
    "print(\"Classification Report:\")\n",
    "print(report)\n",
    "print(\"Training Time:\", end_time - start_time, \"seconds\")"
   ]
  },
  {
   "cell_type": "markdown",
   "id": "2b30b51c",
   "metadata": {},
   "source": [
    "B) Bernoulli Naive Bayes Classifier"
   ]
  },
  {
   "cell_type": "code",
   "execution_count": 22,
   "id": "d78a107a",
   "metadata": {},
   "outputs": [],
   "source": [
    "start_time = time.time()\n",
    "# Train Bernoulli Naive Bayes classifier\n",
    "b_nb_classifier = BernoulliNB()\n",
    "b_nb_classifier.fit(X_train, y_train)\n",
    "# Predictions\n",
    "y_pred = b_nb_classifier.predict(X_test)\n",
    "end_time = time.time()"
   ]
  },
  {
   "cell_type": "code",
   "execution_count": 23,
   "id": "30cdfb75",
   "metadata": {},
   "outputs": [
    {
     "name": "stdout",
     "output_type": "stream",
     "text": [
      "Accuracy: 0.80454\n",
      "Confusion Matrix:\n",
      "[[164623  35377]\n",
      " [ 42807 157193]]\n",
      "Classification Report:\n",
      "              precision    recall  f1-score   support\n",
      "\n",
      "           0       0.79      0.82      0.81    200000\n",
      "           1       0.82      0.79      0.80    200000\n",
      "\n",
      "    accuracy                           0.80    400000\n",
      "   macro avg       0.80      0.80      0.80    400000\n",
      "weighted avg       0.80      0.80      0.80    400000\n",
      "\n",
      "Training Time: 0.7702083587646484 seconds\n"
     ]
    }
   ],
   "source": [
    "# Evaluation\n",
    "accuracy = accuracy_score(y_test, y_pred)\n",
    "print(\"Accuracy:\", accuracy)\n",
    "\n",
    "cm = confusion_matrix(y_test, y_pred)\n",
    "print(\"Confusion Matrix:\")\n",
    "print(cm)\n",
    "\n",
    "report = classification_report(y_test, y_pred)\n",
    "print(\"Classification Report:\")\n",
    "print(report)\n",
    "print(\"Training Time:\", end_time - start_time, \"seconds\")"
   ]
  },
  {
   "cell_type": "markdown",
   "id": "101cdb87",
   "metadata": {},
   "source": [
    "C) Gaussian Naive Bayes classifier"
   ]
  },
  {
   "cell_type": "code",
   "execution_count": 24,
   "id": "45e1c6a2",
   "metadata": {},
   "outputs": [],
   "source": [
    "start_time = time.time()\n",
    "# Train Bernoulli Naive Bayes classifier\n",
    "g_nb_classifier = BernoulliNB()\n",
    "g_nb_classifier.fit(X_train, y_train)\n",
    "# Predictions\n",
    "y_pred = g_nb_classifier.predict(X_test)\n",
    "end_time = time.time()"
   ]
  },
  {
   "cell_type": "code",
   "execution_count": 25,
   "id": "7fc424aa",
   "metadata": {},
   "outputs": [
    {
     "name": "stdout",
     "output_type": "stream",
     "text": [
      "Accuracy: 0.80454\n",
      "Confusion Matrix:\n",
      "[[164623  35377]\n",
      " [ 42807 157193]]\n",
      "Classification Report:\n",
      "              precision    recall  f1-score   support\n",
      "\n",
      "           0       0.79      0.82      0.81    200000\n",
      "           1       0.82      0.79      0.80    200000\n",
      "\n",
      "    accuracy                           0.80    400000\n",
      "   macro avg       0.80      0.80      0.80    400000\n",
      "weighted avg       0.80      0.80      0.80    400000\n",
      "\n",
      "Training Time: 0.6454088687896729 seconds\n"
     ]
    }
   ],
   "source": [
    "# Evaluation\n",
    "accuracy = accuracy_score(y_test, y_pred)\n",
    "print(\"Accuracy:\", accuracy)\n",
    "\n",
    "cm = confusion_matrix(y_test, y_pred)\n",
    "print(\"Confusion Matrix:\")\n",
    "print(cm)\n",
    "\n",
    "report = classification_report(y_test, y_pred)\n",
    "print(\"Classification Report:\")\n",
    "print(report)\n",
    "print(\"Training Time:\", end_time - start_time, \"seconds\")"
   ]
  },
  {
   "cell_type": "markdown",
   "id": "af7d9af3",
   "metadata": {},
   "source": [
    "D) Logistic Regression Classifier"
   ]
  },
  {
   "cell_type": "code",
   "execution_count": 26,
   "id": "e1ab28f9",
   "metadata": {},
   "outputs": [],
   "source": [
    "start_time = time.time()\n",
    "# Train Logistic Regression classifier\n",
    "log_reg_classifier = LogisticRegression(max_iter=1000, random_state=42)\n",
    "log_reg_classifier.fit(X_train, y_train)\n",
    "\n",
    "# Predictions\n",
    "y_pred = log_reg_classifier.predict(X_test)\n",
    "end_time = time.time()"
   ]
  },
  {
   "cell_type": "code",
   "execution_count": 27,
   "id": "54818345",
   "metadata": {},
   "outputs": [
    {
     "name": "stdout",
     "output_type": "stream",
     "text": [
      "Accuracy: 0.8740125\n",
      "Confusion Matrix:\n",
      "[[176070  23930]\n",
      " [ 26465 173535]]\n",
      "Classification Report:\n",
      "              precision    recall  f1-score   support\n",
      "\n",
      "           0       0.87      0.88      0.87    200000\n",
      "           1       0.88      0.87      0.87    200000\n",
      "\n",
      "    accuracy                           0.87    400000\n",
      "   macro avg       0.87      0.87      0.87    400000\n",
      "weighted avg       0.87      0.87      0.87    400000\n",
      "\n",
      "Training Time: 18.874950885772705 seconds\n"
     ]
    }
   ],
   "source": [
    "# Evaluation\n",
    "accuracy = accuracy_score(y_test, y_pred)\n",
    "print(\"Accuracy:\", accuracy)\n",
    "\n",
    "cm = confusion_matrix(y_test, y_pred)\n",
    "print(\"Confusion Matrix:\")\n",
    "print(cm)\n",
    "\n",
    "report = classification_report(y_test, y_pred)\n",
    "print(\"Classification Report:\")\n",
    "print(report)\n",
    "print(\"Training Time:\", end_time - start_time, \"seconds\")"
   ]
  },
  {
   "cell_type": "markdown",
   "id": "04e0df61",
   "metadata": {},
   "source": [
    "E) Decision Tree"
   ]
  },
  {
   "cell_type": "code",
   "execution_count": 28,
   "id": "11f25acd",
   "metadata": {},
   "outputs": [],
   "source": [
    "start_time = time.time()\n",
    "clf_tree = DecisionTreeClassifier( max_depth = 5)\n",
    "clf_tree=clf_tree.fit( X_train, y_train )\n",
    "y_pred=clf_tree.predict(X_test)\n",
    "y_pred\n",
    "end_time = time.time()"
   ]
  },
  {
   "cell_type": "code",
   "execution_count": 29,
   "id": "73eccb75",
   "metadata": {},
   "outputs": [
    {
     "name": "stdout",
     "output_type": "stream",
     "text": [
      "Accuracy: 0.699875\n",
      "Confusion Matrix:\n",
      "[[161037  38963]\n",
      " [ 81087 118913]]\n",
      "Classification Report:\n",
      "              precision    recall  f1-score   support\n",
      "\n",
      "           0       0.67      0.81      0.73    200000\n",
      "           1       0.75      0.59      0.66    200000\n",
      "\n",
      "    accuracy                           0.70    400000\n",
      "   macro avg       0.71      0.70      0.70    400000\n",
      "weighted avg       0.71      0.70      0.70    400000\n",
      "\n",
      "Training Time: 17.57398796081543 seconds\n"
     ]
    }
   ],
   "source": [
    "#Evaluation\n",
    "accuracy = accuracy_score(y_test, y_pred)\n",
    "print(\"Accuracy:\", accuracy)\n",
    "\n",
    "cm = confusion_matrix(y_test, y_pred)\n",
    "print(\"Confusion Matrix:\")\n",
    "print(cm)\n",
    "\n",
    "report = classification_report(y_test, y_pred)\n",
    "print(\"Classification Report:\")\n",
    "print(report)\n",
    "print(\"Training Time:\", end_time - start_time, \"seconds\")"
   ]
  },
  {
   "cell_type": "code",
   "execution_count": null,
   "id": "4d51ea30",
   "metadata": {},
   "outputs": [],
   "source": []
  }
 ],
 "metadata": {
  "kernelspec": {
   "display_name": "Python 3 (ipykernel)",
   "language": "python",
   "name": "python3"
  },
  "language_info": {
   "codemirror_mode": {
    "name": "ipython",
    "version": 3
   },
   "file_extension": ".py",
   "mimetype": "text/x-python",
   "name": "python",
   "nbconvert_exporter": "python",
   "pygments_lexer": "ipython3",
   "version": "3.11.3"
  }
 },
 "nbformat": 4,
 "nbformat_minor": 5
}
